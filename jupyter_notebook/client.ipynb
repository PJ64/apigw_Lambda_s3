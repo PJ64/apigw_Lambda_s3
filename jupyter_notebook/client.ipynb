{
 "cells": [
  {
   "cell_type": "markdown",
   "metadata": {},
   "source": [
    "## Amazon API Gateway, AWS Lambda and Amazon S3"
   ]
  },
  {
   "cell_type": "markdown",
   "metadata": {},
   "source": [
    "This is a basic CDK TypeScript example that deploys 2 AWS Lambda functions. One function will be used to put an object into Amazon S3, the second Lambda function is used to generate a pre-signed url that will be used to download the object from Amazon S3."
   ]
  },
  {
   "cell_type": "markdown",
   "metadata": {},
   "source": [
    "![architecture](../images/architecture_2.png \"Architecture\")"
   ]
  },
  {
   "cell_type": "markdown",
   "metadata": {},
   "source": [
    "\n",
    "1. The first script will send a request to the Amazon API Gateway, the AWS Lambda integrated with the API will write the request body as an object to Amazon S3.\n",
    "\n",
    "\n",
    "2. The second command requests a pre-signed URL through the Amazon API Gateway.\n",
    "\n",
    "\n",
    "**Note:** Make sure you set gwid to your gateway id using - gwid = '...'\n",
    "\n",
    "**Post order**\n"
   ]
  },
  {
   "cell_type": "code",
   "execution_count": null,
   "metadata": {},
   "outputs": [],
   "source": [
    "import json, boto3, requests, datetime\n",
    "\n",
    "#Set gateway id\n",
    "gwid = '...'\n",
    "    \n",
    "url = (f'https://{gwid}.execute-api.ap-southeast-2.amazonaws.com/prod/invoice')\n",
    "    \n",
    "for i in range(5):\n",
    "    x = datetime.datetime.now()\n",
    "    accountid = 'a' + str(i)\n",
    "    vendorid = 'v' + str(i)\n",
    "    orderdate = str(x)\n",
    "    coffeetype = 'Short Black'\n",
    "    coffeesize = 'Small'\n",
    "    unitprice = str(4.50 * (i+1))\n",
    "    quantity = str(i+1)\n",
    "\n",
    "    response = requests.post(url,json={'order':{\n",
    "                'accountid': accountid,\n",
    "                'vendorid': vendorid,\n",
    "                'orderdate':orderdate,\n",
    "                'details':{\n",
    "                    'coffeetype': coffeetype,\n",
    "                    'coffeesize': coffeesize,\n",
    "                    'unitprice': unitprice,\n",
    "                    'quantity': quantity\n",
    "                }\n",
    "            }\n",
    "        })\n",
    "    print(response)"
   ]
  },
  {
   "cell_type": "markdown",
   "metadata": {},
   "source": [
    "**json formatter** - Run the following script to create a class which will be used to render json objects in a readable format."
   ]
  },
  {
   "cell_type": "code",
   "execution_count": null,
   "metadata": {},
   "outputs": [],
   "source": [
    "import json, uuid\n",
    "from IPython.display import display_javascript, display_html, display\n",
    "\n",
    "class RenderJSON(object):\n",
    "    def __init__(self, json_data):\n",
    "        if isinstance(json_data, dict) or isinstance(json_data, list):\n",
    "            self.json_str = json.dumps(json_data)\n",
    "        else:\n",
    "            self.json_str = json_data\n",
    "        self.uuid = str(uuid.uuid4())\n",
    "\n",
    "    def _ipython_display_(self):\n",
    "        display_html('<div id=\"{}\" style=\"height: 600px; width:100%;font: 12px/18px monospace !important;\"></div>'.format(self.uuid), raw=True)\n",
    "        display_javascript(\"\"\"\n",
    "        require([\"https://rawgit.com/caldwell/renderjson/master/renderjson.js\"], function() {\n",
    "            renderjson.set_show_to_level(2);\n",
    "            document.getElementById('%s').appendChild(renderjson(%s))\n",
    "        });\n",
    "      \"\"\" % (self.uuid, self.json_str), raw=True)"
   ]
  },
  {
   "cell_type": "markdown",
   "metadata": {},
   "source": [
    "**Get pre-signed url from S3**, use the url to retrieve the object."
   ]
  },
  {
   "cell_type": "code",
   "execution_count": null,
   "metadata": {},
   "outputs": [],
   "source": [
    "#Get Script\n",
    "\n",
    "url = (f'https://{gwid}.execute-api.ap-southeast-2.amazonaws.com/prod/invoice')\n",
    "\n",
    "now = datetime.datetime.now()\n",
    "path = str(now.year) + '/' + str(now.month) + '/'\n",
    "\n",
    "response_get = requests.get(url, params={'objectKey':path + 'a0'})\n",
    "\n",
    "print(response_get.json())"
   ]
  }
 ],
 "metadata": {
  "kernelspec": {
   "display_name": "Python 3",
   "language": "python",
   "name": "python3"
  },
  "language_info": {
   "codemirror_mode": {
    "name": "ipython",
    "version": 3
   },
   "file_extension": ".py",
   "mimetype": "text/x-python",
   "name": "python",
   "nbconvert_exporter": "python",
   "pygments_lexer": "ipython3",
   "version": "3.8.5"
  }
 },
 "nbformat": 4,
 "nbformat_minor": 4
}
